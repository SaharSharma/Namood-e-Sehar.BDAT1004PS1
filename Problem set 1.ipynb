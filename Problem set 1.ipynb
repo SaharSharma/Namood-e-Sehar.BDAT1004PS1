{
 "cells": [
  {
   "cell_type": "markdown",
   "id": "56e9fdc5",
   "metadata": {},
   "source": [
    "<h1><font  color = '#004b87' > BDAT 1004 – Data Programming</font></h1>\n"
   ]
  },
  {
   "cell_type": "markdown",
   "id": "74358104",
   "metadata": {},
   "source": [
    "Question 1\n",
    "What data type is each of the following (evaluate where necessary)?\n",
    "5\n",
    "5.0\n",
    "5 > 1\n",
    "'5'\n",
    "5 * 2\n",
    "'5' * 2\n",
    "'5' + '2'\n",
    "5 / 2\n",
    "5 % 2\n",
    "{5, 2, 1}\n",
    "5 == 3\n",
    "Pi (the number)"
   ]
  },
  {
   "cell_type": "code",
   "execution_count": 35,
   "id": "d746746e",
   "metadata": {},
   "outputs": [
    {
     "name": "stdout",
     "output_type": "stream",
     "text": [
      "<class 'int'>\n",
      "<class 'float'>\n",
      "<class 'bool'>\n",
      "<class 'str'>\n",
      "<class 'int'>\n",
      "<class 'str'>\n",
      "<class 'str'>\n",
      "<class 'float'>\n",
      "<class 'int'>\n",
      "<class 'set'>\n",
      "<class 'bool'>\n",
      "<class 'float'>\n"
     ]
    }
   ],
   "source": [
    "print (type(5) )          \n",
    "print (type(5.0) )         \n",
    "print (type(5 > 1) )        \n",
    "print (type('5') )          \n",
    "print (type(5 * 2) )        \n",
    "print (type('5' * 2 ) )     \n",
    "print (type('5' + '2') )    \n",
    "print (type(5 / 2 ) )       \n",
    "print (type(5 % 2 ) )       \n",
    "print (type({5, 2, 1}))    \n",
    "print (type(5 == 3 ))          \n",
    "print (type(3.1415926535))\n"
   ]
  },
  {
   "cell_type": "markdown",
   "id": "87bd5ed2",
   "metadata": {},
   "source": [
    "Answer 1\n",
    "5.0             'int'\n",
    "5.0             'float'\n",
    "5 > 1           'bool'\n",
    "'5'             'str'\n",
    "5 * 2           'int'\n",
    "'5' * 2         'str'\n",
    "'5' + '2'       'str'\n",
    "5 / 2           'float'\n",
    "5 % 2           'int'\n",
    "{5, 2, 1}       'set'\n",
    "5 == 3          'bool'\n",
    "Pi (the number) 'float'\n"
   ]
  },
  {
   "cell_type": "markdown",
   "id": "e705fe70",
   "metadata": {},
   "source": [
    "Question 2\n",
    "Write (and evaluate) python expressions that answer these questions:\n",
    "a. How many letters are there in 'Supercalifragilisticexpialidocious'?\n",
    "b. Does 'Supercalifragilisticexpialidocious' contain 'ice' as a substring?\n",
    "c. Which of the following words is the longest:\n",
    "Supercalifragilisticexpialidocious, Honorificabilitudinitatibus, or\n",
    "Bababadalgharaghtakamminarronnkonn?\n",
    "d. Which composer comes first in the dictionary: 'Berlioz', 'Borodin', 'Brian',\n",
    "'Bartok', 'Bellini', 'Buxtehude', 'Bernstein'. Which one comes last?\n"
   ]
  },
  {
   "cell_type": "code",
   "execution_count": 36,
   "id": "aa50a76a",
   "metadata": {},
   "outputs": [
    {
     "name": "stdout",
     "output_type": "stream",
     "text": [
      "34\n",
      "27\n",
      "34\n",
      "True\n",
      "Supercalifragilisticexpialidocious\n",
      "Berlioz\n",
      "['Berlioz', 'Borodin', 'Brian', 'Bartok', 'Bellini', 'Buxtehude', 'Bernstein']\n"
     ]
    }
   ],
   "source": [
    "a = 'Supercalifragilisticexpialidocious'\n",
    "b= 'Honorificabilitudinitatibus'\n",
    "c= 'Bababadalgharaghtakamminarronnkonn'\n",
    "print (len(a))\n",
    "print (len(b))\n",
    "print (len(c))\n",
    "print('ice' in a)\n",
    "words=[a,b,c]\n",
    "longest = max(words, key=len)\n",
    "print(longest)\n",
    "countries=['Berlioz', 'Borodin', 'Brian',\n",
    "'Bartok', 'Bellini', 'Buxtehude', 'Bernstein']\n",
    "print(countries[0])\n",
    "print(countries)"
   ]
  },
  {
   "cell_type": "markdown",
   "id": "ece14451",
   "metadata": {},
   "source": [
    "Answers 2\n",
    "a.   34\n",
    "b.   true\n",
    "c.   Supercalifragilisticexpialidocious\n",
    "d.   Berlioz\n",
    "     Bernstein"
   ]
  },
  {
   "cell_type": "markdown",
   "id": "ba6e4120",
   "metadata": {},
   "source": [
    "Question 3\n",
    "Implement function triangleArea(a,b,c) that takes as input the lengths of the 3\n",
    "sides of a triangle and returns the area of the triangle. By Heron's formula, the area\n",
    "of a triangle with side lengths a, b, and c is\n",
    "sqrts((s - a)(s -b)(s -c))\n",
    ", where\n",
    "s = (a+b+c)/2.\n",
    ">>> triangleArea(2,2,2)\n",
    "1.7320508075688772\n"
   ]
  },
  {
   "cell_type": "code",
   "execution_count": 37,
   "id": "610717e9",
   "metadata": {},
   "outputs": [
    {
     "name": "stdout",
     "output_type": "stream",
     "text": [
      "1.0\n"
     ]
    }
   ],
   "source": [
    "import math\n",
    "\n",
    "def triangleArea(a,b,c):\n",
    "    s= (a+b+c)/2\n",
    "    area = math.sqrt((s-a) * (s-b) * (s-c))\n",
    "    return area\n",
    "\n",
    "area = triangleArea(2,2,2)\n",
    "print(area)"
   ]
  },
  {
   "cell_type": "markdown",
   "id": "c675d7f6",
   "metadata": {},
   "source": [
    "Question 4\n",
    "Write a program in python to separate odd and even integers in separate arrays. Go\n",
    "to the editor\n",
    "Test Data :\n",
    "Input the number of elements to be stored in the array :5\n",
    "Input 5 elements in the array :\n",
    "element - 0 : 25\n",
    "element - 1 : 47\n",
    "element - 2 : 42\n",
    "element - 3 : 56\n",
    "element - 4 : 32\n",
    "Expected Output:\n",
    "The Even elements are:\n",
    "42 56 32\n",
    "The Odd elements are :\n",
    "25 47"
   ]
  },
  {
   "cell_type": "code",
   "execution_count": 168,
   "id": "cf89906d",
   "metadata": {},
   "outputs": [
    {
     "name": "stdout",
     "output_type": "stream",
     "text": [
      "Input the number of elements to be stored in the array :5\n",
      "Input elements in the array :\n",
      " element -  1 : 11\n",
      " element -  2 : 22\n",
      " element -  3 : 33\n",
      " element -  4 : 44\n",
      " element -  5 : 55\n",
      "\n",
      " The Odd elements are:\n",
      "\n",
      "[11, 33, 55]\n",
      "\n",
      " The Even elements are:\n",
      "[22, 44]\n"
     ]
    }
   ],
   "source": [
    "\n",
    "\n",
    "numbers=[]\n",
    "even = []\n",
    "odd = []\n",
    "    \n",
    "num = int(input(\"Input the number of elements to be stored in the array :\"))\n",
    "\n",
    "for i in range(1,num +1):\n",
    "    value = int(input(\" element -  %d : \"  %i))\n",
    "    numbers.append(value)\n",
    "\n",
    "for num in numbers:\n",
    "    if num%2 != 0:\n",
    "        odd.append(num)\n",
    "       \n",
    "    else:\n",
    "        even.append(num)\n",
    "        \n",
    "                         \n",
    "print(\"\\n The Odd elements are:\\n\")\n",
    "print(odd)\n",
    "print(\"\\n The Even elements are:\")\n",
    "print(even)\n"
   ]
  },
  {
   "cell_type": "code",
   "execution_count": null,
   "id": "e588299a",
   "metadata": {},
   "outputs": [],
   "source": []
  },
  {
   "cell_type": "markdown",
   "id": "67da487f",
   "metadata": {},
   "source": [
    "Question 5\n",
    "a. Write a function inside(x,y,x1,y1,x2,y2) that returns True or False\n",
    "depending on whether the point (x,y) lies in the rectangle with lower left\n",
    "corner (x1,y1) and upper right corner (x2,y2).\n",
    ">>> inside(1,1,0,0,2,3)\n",
    "True\n",
    ">>> inside(-1,-1,0,0,2,3)\n",
    "False\n",
    "b. Use function inside() from part a. to write an expression that tests whether\n",
    "the point (1,1) lies in both of the following rectangles: one with lower left\n",
    "corner (0.3, 0.5) and upper right corner (1.1, 0.7) and the other with lower\n",
    "left corner (0.5, 0.2) and upper right corner (1.1, 2). "
   ]
  },
  {
   "cell_type": "code",
   "execution_count": 72,
   "id": "05f7df5e",
   "metadata": {},
   "outputs": [
    {
     "name": "stdout",
     "output_type": "stream",
     "text": [
      "True\n",
      "False\n"
     ]
    }
   ],
   "source": [
    "def inside(x,y,x1,y1,x2,y2):\n",
    "    if x>=x1 and x<=x2 and y>=y1 and y<= y2:\n",
    "        return True\n",
    "    else:\n",
    "        return False\n",
    "    \n",
    "output1 = inside(1,1,0,0,2,3) \n",
    "\n",
    "output2 = inside(-1,-1,0,0,2,3)\n",
    "print (output1)\n",
    "print (output2)\n",
    "    "
   ]
  },
  {
   "cell_type": "markdown",
   "id": "c87c1b97",
   "metadata": {},
   "source": [
    "Question 6\n",
    "16. You can turn a word into pig-Latin using the following two rules (simplified):\n",
    "• If the word starts with a consonant, move that letter to the end and append\n",
    "'ay'. For example, 'happy' becomes 'appyhay' and 'pencil' becomes 'encilpay'.\n",
    "• If the word starts with a vowel, simply append 'way' to the end of the word.\n",
    "For example, 'enter' becomes 'enterway' and 'other' becomes 'otherway' . For\n",
    "our purposes, there are 5 vowels: a, e, i, o, u (so we count y as a consonant).\n",
    "Write a function pig() that takes a word (i.e., a string) as input and returns its pigLatin form. Your function should still work if the input word contains upper case\n",
    "characters. Your output should always be lower case however.\n",
    ">>> pig('happy')\n",
    "'appyhay'\n",
    ">>> pig('Enter')\n",
    "'enterway' "
   ]
  },
  {
   "cell_type": "code",
   "execution_count": 93,
   "id": "408f6cd7",
   "metadata": {},
   "outputs": [
    {
     "data": {
      "text/plain": [
       "'appyhay'"
      ]
     },
     "execution_count": 93,
     "metadata": {},
     "output_type": "execute_result"
    }
   ],
   "source": [
    "def pig(word):\n",
    "    \n",
    "    vowels=['a','e','i','o','u']\n",
    "    word = word.lower()\n",
    "    if word[0] in vowels:\n",
    "        return  word + 'way'\n",
    "    else:\n",
    "        return word[1:] +word[0] + 'ay'\n",
    "        return word \n",
    "pig('happy')\n",
    "\n",
    "\n",
    "    \n",
    "    \n",
    "    "
   ]
  },
  {
   "cell_type": "markdown",
   "id": "bc945b20",
   "metadata": {},
   "source": [
    "Question 7\n",
    "File bloodtype1.txt records blood-types of patients (A, B, AB, O or OO) at a clinic.\n",
    "Write a function bldcount() that reads the file with name name and reports (i.e.,\n",
    "prints) how many patients there are in each bloodtype.\n",
    ">>> bldcount('bloodtype.txt')\n",
    "There are 10 patients of blood type A.\n",
    "There is one patient of blood type B.\n",
    "There are 10 patients of blood type AB.\n",
    "There are 12 patients of blood type O.\n",
    "There are no patients of blood type OO.\n",
    "\n",
    "   split text into list of words\n",
    "\n",
    "      # dictionary of counters\n",
    "            # counter for word exists\n",
    "            \n",
    "            # counter for word doesn't exist\n",
    "           \n",
    "                # print word counts"
   ]
  },
  {
   "cell_type": "code",
   "execution_count": 171,
   "id": "afcfc1db",
   "metadata": {},
   "outputs": [
    {
     "ename": "SyntaxError",
     "evalue": "(unicode error) 'unicodeescape' codec can't decode bytes in position 2-3: truncated \\UXXXXXXXX escape (1514626484.py, line 17)",
     "output_type": "error",
     "traceback": [
      "\u001b[1;36m  Cell \u001b[1;32mIn[171], line 17\u001b[1;36m\u001b[0m\n\u001b[1;33m    bldcount('C:\\Users\\sahar\\georgian\\semester1\\bloodtype.txt')\u001b[0m\n\u001b[1;37m                                                              ^\u001b[0m\n\u001b[1;31mSyntaxError\u001b[0m\u001b[1;31m:\u001b[0m (unicode error) 'unicodeescape' codec can't decode bytes in position 2-3: truncated \\UXXXXXXXX escape\n"
     ]
    }
   ],
   "source": [
    "def bldcount(filename):\n",
    "    bldtypes= {'A': 0,'B': 0,'AB': 0,'O': 0,'OO': 0}\n",
    "    \n",
    "    try:\n",
    "        with  open(filename,'r') as file:\n",
    "            for a in file:\n",
    "                bldtyp = line.strip()\n",
    "                if bldtyp in bldtypes:\n",
    "                    bldtypes[bldtyp] +=1\n",
    "        for bldtyp,counter in bldtypes.items():\n",
    "          \n",
    "            print(f\"There are {counter} patients of blood {bldtyp}.\" )   \n",
    "    except FileNotFoundError:\n",
    "        print (\"File not found\")\n",
    "   \n",
    "\n",
    "    bldcount('C:\\Users\\sahar\\georgian\\semester1\\bloodtype.txt')\n",
    "        \n",
    "    \n",
    "    \n",
    "    "
   ]
  },
  {
   "cell_type": "markdown",
   "id": "c824a912",
   "metadata": {},
   "source": [
    "Question 8\n",
    "Write a function curconv() that takes as input:\n",
    "1. a currency represented using a string (e.g., 'JPY' for the Japanese Yen or\n",
    "'EUR' for the Euro)\n",
    "2. an amount\n",
    "and then converts and returns the amount in US dollars.\n",
    ">>> curconv('EUR', 100)\n",
    "122.96544\n",
    ">>> curconv('JPY', 100)\n",
    "1.241401\n"
   ]
  },
  {
   "cell_type": "code",
   "execution_count": 170,
   "id": "b57e4c6a",
   "metadata": {},
   "outputs": [
    {
     "ename": "SyntaxError",
     "evalue": "(unicode error) 'unicodeescape' codec can't decode bytes in position 2-3: truncated \\UXXXXXXXX escape (4036295328.py, line 3)",
     "output_type": "error",
     "traceback": [
      "\u001b[1;36m  Cell \u001b[1;32mIn[170], line 3\u001b[1;36m\u001b[0m\n\u001b[1;33m    with open('C:\\Users\\sahar\\georgian\\semester1\\currencies.txt', 'r')as file:\u001b[0m\n\u001b[1;37m                                                                ^\u001b[0m\n\u001b[1;31mSyntaxError\u001b[0m\u001b[1;31m:\u001b[0m (unicode error) 'unicodeescape' codec can't decode bytes in position 2-3: truncated \\UXXXXXXXX escape\n"
     ]
    }
   ],
   "source": [
    "def curconv(currency , value):\n",
    "    try:\n",
    "        with open('C:\\Users\\sahar\\georgian\\semester1\\currencies.txt', 'r')as file:\n",
    "            for l in file:\n",
    "                lst = line.split(0\n",
    "                if lst[0] == currency):\n",
    "                    rate = float(data[1])\n",
    "                    return rate * value\n",
    "    except FileNotFoundError:\n",
    "        print(\"File not found\")\n",
    "        \n",
    "        dollars = curconv('EUR', 100)   "
   ]
  },
  {
   "cell_type": "markdown",
   "id": "dc5281cd",
   "metadata": {},
   "source": [
    "Question 9\n",
    "Each of the following will cause an exception (an error). Identify what type of\n",
    "exception each will cause.\n",
    "Trying to add incompatible variables, as in\n",
    "adding 6 + ‘a’\n",
    "Referring to the 12th item of a list that has only 10\n",
    "items\n",
    "Using a value that is out of range for a function’s\n",
    "input, such as calling math.sqrt(-1.0)\n",
    "Using an undeclared variable, such as print(x)\n",
    "when x has not been defined\n",
    "Trying to open a file that does not exist, such as\n",
    "mistyping the file name or looking in the wrong\n",
    "directory. "
   ]
  },
  {
   "cell_type": "markdown",
   "id": "638e050e",
   "metadata": {},
   "source": [
    "Answer:\n",
    "1. TypeError\n",
    "2. IndexError\n",
    "3. ValuError\n",
    "4. NameError\n",
    "5. FileNotFoundError\n",
    "\n",
    "    "
   ]
  },
  {
   "cell_type": "markdown",
   "id": "c264b3d9",
   "metadata": {},
   "source": [
    "Question 10\n",
    "Encryption is the process of hiding the meaning of a text by substituting letters in the\n",
    "message with other letters, according to some system. If the process is successful, no\n",
    "one but the intended recipient can understand the encrypted message. Cryptanalysis\n",
    "refers to attempts to undo the encryption, even if some details of the encryption are\n",
    "unknown (for example, if an encrypted message has been intercepted). The first step\n",
    "of cryptanalysis is often to build up a table of letter frequencies in the encrypted text.\n",
    "Assume that the string letters is already defined as\n",
    "'abcdefghijklmnopqrstuvwxyz'. Write a function called frequencies()\n",
    "that takes a string as its only parameter, and returns a list of integers, showing the\n",
    "number of times each character appears in the text. Your function may ignore any\n",
    "characters that are not in letters.\n",
    ">>> frequencies('The quick red fox got bored and went home.')\n",
    "[1, 1, 1, 3, 5, 1, 1, 2, 1, 0, 1, 0, 1, 2, 4, 0, 1, 2, 0, 2,\n",
    "1, 0, 1, 1, 0, 0]\n",
    ">>> frequencies('apple')"
   ]
  },
  {
   "cell_type": "code",
   "execution_count": 175,
   "id": "ab448088",
   "metadata": {},
   "outputs": [
    {
     "name": "stdout",
     "output_type": "stream",
     "text": [
      "[1, 1, 1, 3, 5, 1, 1, 2, 1, 0, 1, 0, 1, 2, 4, 0, 1, 2, 0, 3, 1, 0, 1, 1, 0, 0]\n"
     ]
    }
   ],
   "source": [
    "def frequencies(text):\n",
    "    letters = 'abcdefghijklmnopqrstuvwxyz'\n",
    "    list = []\n",
    "    for l in letters:\n",
    "        list.append(text.lower().count(l))\n",
    "    return list\n",
    "\n",
    "print(frequencies('The quick red fox got bored and went home.'))\n"
   ]
  },
  {
   "cell_type": "code",
   "execution_count": null,
   "id": "345e24fa",
   "metadata": {},
   "outputs": [],
   "source": []
  }
 ],
 "metadata": {
  "kernelspec": {
   "display_name": "Python 3 (ipykernel)",
   "language": "python",
   "name": "python3"
  },
  "language_info": {
   "codemirror_mode": {
    "name": "ipython",
    "version": 3
   },
   "file_extension": ".py",
   "mimetype": "text/x-python",
   "name": "python",
   "nbconvert_exporter": "python",
   "pygments_lexer": "ipython3",
   "version": "3.10.9"
  }
 },
 "nbformat": 4,
 "nbformat_minor": 5
}
